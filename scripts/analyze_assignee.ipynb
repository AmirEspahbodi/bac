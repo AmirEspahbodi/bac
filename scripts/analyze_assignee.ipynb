{
 "cells": [
  {
   "cell_type": "code",
   "execution_count": 1,
   "id": "1b38718e",
   "metadata": {},
   "outputs": [],
   "source": [
    "import pandas as pd\n",
    "import plotly.express as px\n",
    "import argparse\n",
    "from pathlib import Path\n",
    "\n",
    "\n",
    "def analyze_assignee(dataset_path: Path) -> None:\n",
    "\n",
    "    output_dir = Path(\"output\")\n",
    "    output_dir.mkdir(exist_ok=True)\n",
    "\n",
    "    try:\n",
    "        df = pd.read_csv(dataset_path)\n",
    "\n",
    "        if \"Assignee\" not in df.columns:\n",
    "            print(f\"Error: 'Assignee' column not found in {dataset_path}\")\n",
    "            return\n",
    "\n",
    "        df_cleaned = df.dropna(subset=['Assignee'])\n",
    "\n",
    "        assignee_counts = df_cleaned['Assignee'].value_counts().reset_index()\n",
    "        assignee_counts.columns = ['Assignee', 'Count']\n",
    "\n",
    "        print(\"--- Top 10 Assignees ---\")\n",
    "        print(assignee_counts.head(10))\n",
    "        print(\"\\n\")\n",
    "\n",
    "        # 1. Bar Chart: For frequency distribution\n",
    "        fig_bar = px.bar(\n",
    "            assignee_counts,\n",
    "            x='Assignee',\n",
    "            y='Count',\n",
    "            title='Assignee Distribution 📊',\n",
    "            labels={'Count': 'Number of Assignments', 'Assignee': 'Assignee Name'},\n",
    "            color='Assignee'\n",
    "        )\n",
    "        fig_bar.show()\n",
    "        bar_chart_path = output_dir / \"assignee_bar_chart.png\"\n",
    "        fig_bar.write_image(bar_chart_path, width=1200, height=600)\n",
    "\n",
    "\n",
    "        # 3. Treemap: For hierarchical view of the distribution\n",
    "        fig_treemap = px.treemap(\n",
    "            assignee_counts,\n",
    "            path=[px.Constant(\"All Assignees\"), 'Assignee'],\n",
    "            values='Count',\n",
    "            title='Hierarchical View of Assignees 🌳',\n",
    "            color='Count',\n",
    "            color_continuous_scale='viridis'\n",
    "        )\n",
    "        fig_treemap.update_layout(margin = dict(t=50, l=25, r=25, b=25))\n",
    "        fig_treemap.show()\n",
    "        treemap_path = output_dir / \"assignee_treemap.png\"\n",
    "        fig_treemap.write_image(treemap_path, width=1200, height=800)\n",
    "        \n",
    "    except FileNotFoundError:\n",
    "        print(f\"Error: The file at {dataset_path} was not found.\")\n",
    "    except Exception as e:\n",
    "        print(f\"An unexpected error occurred: {e}\")\n"
   ]
  },
  {
   "cell_type": "code",
   "execution_count": null,
   "id": "90664d1a",
   "metadata": {},
   "outputs": [
    {
     "name": "stdout",
     "output_type": "stream",
     "text": [
      "--- Top 10 Assignees ---\n",
      "                 Assignee  Count\n",
      "0           Tobias Burnus    264\n",
      "1         Benjamin Kosnik    257\n",
      "2  Alexandre Petit-Bianco    159\n",
      "3           Paolo Bonzini    110\n",
      "4          David Edelsohn     99\n",
      "5         Alexandre Oliva     95\n",
      "6              Alan Modra     89\n",
      "7           David Malcolm     70\n",
      "8            Andrew Haley     67\n",
      "9          Bryce McKinlay     57\n",
      "\n",
      "\n"
     ]
    },
    {
     "data": {
      "application/vnd.plotly.v1+json": {
       "config": {
        "plotlyServerURL": "https://plot.ly"
       },
       "data": [
        {
         "hovertemplate": "Assignee Name=%{x}<br>Number of Assignments=%{y}<extra></extra>",
         "legendgroup": "Tobias Burnus",
         "marker": {
          "color": "#636efa",
          "pattern": {
           "shape": ""
          }
         },
         "name": "Tobias Burnus",
         "orientation": "v",
         "showlegend": true,
         "textposition": "auto",
         "type": "bar",
         "x": [
          "Tobias Burnus"
         ],
         "xaxis": "x",
         "y": {
          "bdata": "CAE=",
          "dtype": "i2"
         },
         "yaxis": "y"
        },
        {
         "hovertemplate": "Assignee Name=%{x}<br>Number of Assignments=%{y}<extra></extra>",
         "legendgroup": "Benjamin Kosnik",
         "marker": {
          "color": "#EF553B",
          "pattern": {
           "shape": ""
          }
         },
         "name": "Benjamin Kosnik",
         "orientation": "v",
         "showlegend": true,
         "textposition": "auto",
         "type": "bar",
         "x": [
          "Benjamin Kosnik"
         ],
         "xaxis": "x",
         "y": {
          "bdata": "AQE=",
          "dtype": "i2"
         },
         "yaxis": "y"
        },
        {
         "hovertemplate": "Assignee Name=%{x}<br>Number of Assignments=%{y}<extra></extra>",
         "legendgroup": "Alexandre Petit-Bianco",
         "marker": {
          "color": "#00cc96",
          "pattern": {
           "shape": ""
          }
         },
         "name": "Alexandre Petit-Bianco",
         "orientation": "v",
         "showlegend": true,
         "textposition": "auto",
         "type": "bar",
         "x": [
          "Alexandre Petit-Bianco"
         ],
         "xaxis": "x",
         "y": {
          "bdata": "nwA=",
          "dtype": "i2"
         },
         "yaxis": "y"
        },
        {
         "hovertemplate": "Assignee Name=%{x}<br>Number of Assignments=%{y}<extra></extra>",
         "legendgroup": "Paolo Bonzini",
         "marker": {
          "color": "#ab63fa",
          "pattern": {
           "shape": ""
          }
         },
         "name": "Paolo Bonzini",
         "orientation": "v",
         "showlegend": true,
         "textposition": "auto",
         "type": "bar",
         "x": [
          "Paolo Bonzini"
         ],
         "xaxis": "x",
         "y": {
          "bdata": "bg==",
          "dtype": "i1"
         },
         "yaxis": "y"
        },
        {
         "hovertemplate": "Assignee Name=%{x}<br>Number of Assignments=%{y}<extra></extra>",
         "legendgroup": "David Edelsohn",
         "marker": {
          "color": "#FFA15A",
          "pattern": {
           "shape": ""
          }
         },
         "name": "David Edelsohn",
         "orientation": "v",
         "showlegend": true,
         "textposition": "auto",
         "type": "bar",
         "x": [
          "David Edelsohn"
         ],
         "xaxis": "x",
         "y": {
          "bdata": "Yw==",
          "dtype": "i1"
         },
         "yaxis": "y"
        },
        {
         "hovertemplate": "Assignee Name=%{x}<br>Number of Assignments=%{y}<extra></extra>",
         "legendgroup": "Alexandre Oliva",
         "marker": {
          "color": "#19d3f3",
          "pattern": {
           "shape": ""
          }
         },
         "name": "Alexandre Oliva",
         "orientation": "v",
         "showlegend": true,
         "textposition": "auto",
         "type": "bar",
         "x": [
          "Alexandre Oliva"
         ],
         "xaxis": "x",
         "y": {
          "bdata": "Xw==",
          "dtype": "i1"
         },
         "yaxis": "y"
        },
        {
         "hovertemplate": "Assignee Name=%{x}<br>Number of Assignments=%{y}<extra></extra>",
         "legendgroup": "Alan Modra",
         "marker": {
          "color": "#FF6692",
          "pattern": {
           "shape": ""
          }
         },
         "name": "Alan Modra",
         "orientation": "v",
         "showlegend": true,
         "textposition": "auto",
         "type": "bar",
         "x": [
          "Alan Modra"
         ],
         "xaxis": "x",
         "y": {
          "bdata": "WQ==",
          "dtype": "i1"
         },
         "yaxis": "y"
        },
        {
         "hovertemplate": "Assignee Name=%{x}<br>Number of Assignments=%{y}<extra></extra>",
         "legendgroup": "David Malcolm",
         "marker": {
          "color": "#B6E880",
          "pattern": {
           "shape": ""
          }
         },
         "name": "David Malcolm",
         "orientation": "v",
         "showlegend": true,
         "textposition": "auto",
         "type": "bar",
         "x": [
          "David Malcolm"
         ],
         "xaxis": "x",
         "y": {
          "bdata": "Rg==",
          "dtype": "i1"
         },
         "yaxis": "y"
        },
        {
         "hovertemplate": "Assignee Name=%{x}<br>Number of Assignments=%{y}<extra></extra>",
         "legendgroup": "Andrew Haley",
         "marker": {
          "color": "#FF97FF",
          "pattern": {
           "shape": ""
          }
         },
         "name": "Andrew Haley",
         "orientation": "v",
         "showlegend": true,
         "textposition": "auto",
         "type": "bar",
         "x": [
          "Andrew Haley"
         ],
         "xaxis": "x",
         "y": {
          "bdata": "Qw==",
          "dtype": "i1"
         },
         "yaxis": "y"
        },
        {
         "hovertemplate": "Assignee Name=%{x}<br>Number of Assignments=%{y}<extra></extra>",
         "legendgroup": "Bryce McKinlay",
         "marker": {
          "color": "#FECB52",
          "pattern": {
           "shape": ""
          }
         },
         "name": "Bryce McKinlay",
         "orientation": "v",
         "showlegend": true,
         "textposition": "auto",
         "type": "bar",
         "x": [
          "Bryce McKinlay"
         ],
         "xaxis": "x",
         "y": {
          "bdata": "OQ==",
          "dtype": "i1"
         },
         "yaxis": "y"
        },
        {
         "hovertemplate": "Assignee Name=%{x}<br>Number of Assignments=%{y}<extra></extra>",
         "legendgroup": "John David Anglin",
         "marker": {
          "color": "#636efa",
          "pattern": {
           "shape": ""
          }
         },
         "name": "John David Anglin",
         "orientation": "v",
         "showlegend": true,
         "textposition": "auto",
         "type": "bar",
         "x": [
          "John David Anglin"
         ],
         "xaxis": "x",
         "y": {
          "bdata": "OQ==",
          "dtype": "i1"
         },
         "yaxis": "y"
        },
        {
         "hovertemplate": "Assignee Name=%{x}<br>Number of Assignments=%{y}<extra></extra>",
         "legendgroup": "Aldy Hernandez",
         "marker": {
          "color": "#EF553B",
          "pattern": {
           "shape": ""
          }
         },
         "name": "Aldy Hernandez",
         "orientation": "v",
         "showlegend": true,
         "textposition": "auto",
         "type": "bar",
         "x": [
          "Aldy Hernandez"
         ],
         "xaxis": "x",
         "y": {
          "bdata": "MA==",
          "dtype": "i1"
         },
         "yaxis": "y"
        },
        {
         "hovertemplate": "Assignee Name=%{x}<br>Number of Assignments=%{y}<extra></extra>",
         "legendgroup": "Daniel Berlin",
         "marker": {
          "color": "#00cc96",
          "pattern": {
           "shape": ""
          }
         },
         "name": "Daniel Berlin",
         "orientation": "v",
         "showlegend": true,
         "textposition": "auto",
         "type": "bar",
         "x": [
          "Daniel Berlin"
         ],
         "xaxis": "x",
         "y": {
          "bdata": "Lw==",
          "dtype": "i1"
         },
         "yaxis": "y"
        },
        {
         "hovertemplate": "Assignee Name=%{x}<br>Number of Assignments=%{y}<extra></extra>",
         "legendgroup": "Ben Elliston",
         "marker": {
          "color": "#ab63fa",
          "pattern": {
           "shape": ""
          }
         },
         "name": "Ben Elliston",
         "orientation": "v",
         "showlegend": true,
         "textposition": "auto",
         "type": "bar",
         "x": [
          "Ben Elliston"
         ],
         "xaxis": "x",
         "y": {
          "bdata": "LA==",
          "dtype": "i1"
         },
         "yaxis": "y"
        },
        {
         "hovertemplate": "Assignee Name=%{x}<br>Number of Assignments=%{y}<extra></extra>",
         "legendgroup": "bin cheng",
         "marker": {
          "color": "#FFA15A",
          "pattern": {
           "shape": ""
          }
         },
         "name": "bin cheng",
         "orientation": "v",
         "showlegend": true,
         "textposition": "auto",
         "type": "bar",
         "x": [
          "bin cheng"
         ],
         "xaxis": "x",
         "y": {
          "bdata": "Kw==",
          "dtype": "i1"
         },
         "yaxis": "y"
        },
        {
         "hovertemplate": "Assignee Name=%{x}<br>Number of Assignments=%{y}<extra></extra>",
         "legendgroup": "Peter Bergner",
         "marker": {
          "color": "#19d3f3",
          "pattern": {
           "shape": ""
          }
         },
         "name": "Peter Bergner",
         "orientation": "v",
         "showlegend": true,
         "textposition": "auto",
         "type": "bar",
         "x": [
          "Peter Bergner"
         ],
         "xaxis": "x",
         "y": {
          "bdata": "JQ==",
          "dtype": "i1"
         },
         "yaxis": "y"
        },
        {
         "hovertemplate": "Assignee Name=%{x}<br>Number of Assignments=%{y}<extra></extra>",
         "legendgroup": "Bernd Schmidt",
         "marker": {
          "color": "#FF6692",
          "pattern": {
           "shape": ""
          }
         },
         "name": "Bernd Schmidt",
         "orientation": "v",
         "showlegend": true,
         "textposition": "auto",
         "type": "bar",
         "x": [
          "Bernd Schmidt"
         ],
         "xaxis": "x",
         "y": {
          "bdata": "Iw==",
          "dtype": "i1"
         },
         "yaxis": "y"
        },
        {
         "hovertemplate": "Assignee Name=%{x}<br>Number of Assignments=%{y}<extra></extra>",
         "legendgroup": "Danny Smith",
         "marker": {
          "color": "#B6E880",
          "pattern": {
           "shape": ""
          }
         },
         "name": "Danny Smith",
         "orientation": "v",
         "showlegend": true,
         "textposition": "auto",
         "type": "bar",
         "x": [
          "Danny Smith"
         ],
         "xaxis": "x",
         "y": {
          "bdata": "Ig==",
          "dtype": "i1"
         },
         "yaxis": "y"
        },
        {
         "hovertemplate": "Assignee Name=%{x}<br>Number of Assignments=%{y}<extra></extra>",
         "legendgroup": "Daniel Franke",
         "marker": {
          "color": "#FF97FF",
          "pattern": {
           "shape": ""
          }
         },
         "name": "Daniel Franke",
         "orientation": "v",
         "showlegend": true,
         "textposition": "auto",
         "type": "bar",
         "x": [
          "Daniel Franke"
         ],
         "xaxis": "x",
         "y": {
          "bdata": "IQ==",
          "dtype": "i1"
         },
         "yaxis": "y"
        },
        {
         "hovertemplate": "Assignee Name=%{x}<br>Number of Assignments=%{y}<extra></extra>",
         "legendgroup": "David Daney",
         "marker": {
          "color": "#FECB52",
          "pattern": {
           "shape": ""
          }
         },
         "name": "David Daney",
         "orientation": "v",
         "showlegend": true,
         "textposition": "auto",
         "type": "bar",
         "x": [
          "David Daney"
         ],
         "xaxis": "x",
         "y": {
          "bdata": "HQ==",
          "dtype": "i1"
         },
         "yaxis": "y"
        },
        {
         "hovertemplate": "Assignee Name=%{x}<br>Number of Assignments=%{y}<extra></extra>",
         "legendgroup": "Dave Korn",
         "marker": {
          "color": "#636efa",
          "pattern": {
           "shape": ""
          }
         },
         "name": "Dave Korn",
         "orientation": "v",
         "showlegend": true,
         "textposition": "auto",
         "type": "bar",
         "x": [
          "Dave Korn"
         ],
         "xaxis": "x",
         "y": {
          "bdata": "HQ==",
          "dtype": "i1"
         },
         "yaxis": "y"
        },
        {
         "hovertemplate": "Assignee Name=%{x}<br>Number of Assignments=%{y}<extra></extra>",
         "legendgroup": "David Billinghurst",
         "marker": {
          "color": "#EF553B",
          "pattern": {
           "shape": ""
          }
         },
         "name": "David Billinghurst",
         "orientation": "v",
         "showlegend": true,
         "textposition": "auto",
         "type": "bar",
         "x": [
          "David Billinghurst"
         ],
         "xaxis": "x",
         "y": {
          "bdata": "HQ==",
          "dtype": "i1"
         },
         "yaxis": "y"
        },
        {
         "hovertemplate": "Assignee Name=%{x}<br>Number of Assignments=%{y}<extra></extra>",
         "legendgroup": "Andrey Belevantsev",
         "marker": {
          "color": "#00cc96",
          "pattern": {
           "shape": ""
          }
         },
         "name": "Andrey Belevantsev",
         "orientation": "v",
         "showlegend": true,
         "textposition": "auto",
         "type": "bar",
         "x": [
          "Andrey Belevantsev"
         ],
         "xaxis": "x",
         "y": {
          "bdata": "Gw==",
          "dtype": "i1"
         },
         "yaxis": "y"
        },
        {
         "hovertemplate": "Assignee Name=%{x}<br>Number of Assignments=%{y}<extra></extra>",
         "legendgroup": "Andreas Tobler",
         "marker": {
          "color": "#ab63fa",
          "pattern": {
           "shape": ""
          }
         },
         "name": "Andreas Tobler",
         "orientation": "v",
         "showlegend": true,
         "textposition": "auto",
         "type": "bar",
         "x": [
          "Andreas Tobler"
         ],
         "xaxis": "x",
         "y": {
          "bdata": "Gw==",
          "dtype": "i1"
         },
         "yaxis": "y"
        },
        {
         "hovertemplate": "Assignee Name=%{x}<br>Number of Assignments=%{y}<extra></extra>",
         "legendgroup": "Alexander Monakov",
         "marker": {
          "color": "#FFA15A",
          "pattern": {
           "shape": ""
          }
         },
         "name": "Alexander Monakov",
         "orientation": "v",
         "showlegend": true,
         "textposition": "auto",
         "type": "bar",
         "x": [
          "Alexander Monakov"
         ],
         "xaxis": "x",
         "y": {
          "bdata": "Gg==",
          "dtype": "i1"
         },
         "yaxis": "y"
        },
        {
         "hovertemplate": "Assignee Name=%{x}<br>Number of Assignments=%{y}<extra></extra>",
         "legendgroup": "Brooks Moses",
         "marker": {
          "color": "#19d3f3",
          "pattern": {
           "shape": ""
          }
         },
         "name": "Brooks Moses",
         "orientation": "v",
         "showlegend": true,
         "textposition": "auto",
         "type": "bar",
         "x": [
          "Brooks Moses"
         ],
         "xaxis": "x",
         "y": {
          "bdata": "Fg==",
          "dtype": "i1"
         },
         "yaxis": "y"
        },
        {
         "hovertemplate": "Assignee Name=%{x}<br>Number of Assignments=%{y}<extra></extra>",
         "legendgroup": "Volker Reichelt",
         "marker": {
          "color": "#FF6692",
          "pattern": {
           "shape": ""
          }
         },
         "name": "Volker Reichelt",
         "orientation": "v",
         "showlegend": true,
         "textposition": "auto",
         "type": "bar",
         "x": [
          "Volker Reichelt"
         ],
         "xaxis": "x",
         "y": {
          "bdata": "FA==",
          "dtype": "i1"
         },
         "yaxis": "y"
        },
        {
         "hovertemplate": "Assignee Name=%{x}<br>Number of Assignments=%{y}<extra></extra>",
         "legendgroup": "David S. Miller",
         "marker": {
          "color": "#B6E880",
          "pattern": {
           "shape": ""
          }
         },
         "name": "David S. Miller",
         "orientation": "v",
         "showlegend": true,
         "textposition": "auto",
         "type": "bar",
         "x": [
          "David S. Miller"
         ],
         "xaxis": "x",
         "y": {
          "bdata": "FA==",
          "dtype": "i1"
         },
         "yaxis": "y"
        },
        {
         "hovertemplate": "Assignee Name=%{x}<br>Number of Assignments=%{y}<extra></extra>",
         "legendgroup": "Stephane Carrez",
         "marker": {
          "color": "#FF97FF",
          "pattern": {
           "shape": ""
          }
         },
         "name": "Stephane Carrez",
         "orientation": "v",
         "showlegend": true,
         "textposition": "auto",
         "type": "bar",
         "x": [
          "Stephane Carrez"
         ],
         "xaxis": "x",
         "y": {
          "bdata": "Ew==",
          "dtype": "i1"
         },
         "yaxis": "y"
        },
        {
         "hovertemplate": "Assignee Name=%{x}<br>Number of Assignments=%{y}<extra></extra>",
         "legendgroup": "Arnaud Charlet",
         "marker": {
          "color": "#FECB52",
          "pattern": {
           "shape": ""
          }
         },
         "name": "Arnaud Charlet",
         "orientation": "v",
         "showlegend": true,
         "textposition": "auto",
         "type": "bar",
         "x": [
          "Arnaud Charlet"
         ],
         "xaxis": "x",
         "y": {
          "bdata": "Eg==",
          "dtype": "i1"
         },
         "yaxis": "y"
        },
        {
         "hovertemplate": "Assignee Name=%{x}<br>Number of Assignments=%{y}<extra></extra>",
         "legendgroup": "Cary Coutant",
         "marker": {
          "color": "#636efa",
          "pattern": {
           "shape": ""
          }
         },
         "name": "Cary Coutant",
         "orientation": "v",
         "showlegend": true,
         "textposition": "auto",
         "type": "bar",
         "x": [
          "Cary Coutant"
         ],
         "xaxis": "x",
         "y": {
          "bdata": "EA==",
          "dtype": "i1"
         },
         "yaxis": "y"
        },
        {
         "hovertemplate": "Assignee Name=%{x}<br>Number of Assignments=%{y}<extra></extra>",
         "legendgroup": "Andrew Macleod",
         "marker": {
          "color": "#EF553B",
          "pattern": {
           "shape": ""
          }
         },
         "name": "Andrew Macleod",
         "orientation": "v",
         "showlegend": true,
         "textposition": "auto",
         "type": "bar",
         "x": [
          "Andrew Macleod"
         ],
         "xaxis": "x",
         "y": {
          "bdata": "Dg==",
          "dtype": "i1"
         },
         "yaxis": "y"
        },
        {
         "hovertemplate": "Assignee Name=%{x}<br>Number of Assignments=%{y}<extra></extra>",
         "legendgroup": "Jorn Wolfgang Rennecke",
         "marker": {
          "color": "#00cc96",
          "pattern": {
           "shape": ""
          }
         },
         "name": "Jorn Wolfgang Rennecke",
         "orientation": "v",
         "showlegend": true,
         "textposition": "auto",
         "type": "bar",
         "x": [
          "Jorn Wolfgang Rennecke"
         ],
         "xaxis": "x",
         "y": {
          "bdata": "Dg==",
          "dtype": "i1"
         },
         "yaxis": "y"
        },
        {
         "hovertemplate": "Assignee Name=%{x}<br>Number of Assignments=%{y}<extra></extra>",
         "legendgroup": "Chris Manghane",
         "marker": {
          "color": "#ab63fa",
          "pattern": {
           "shape": ""
          }
         },
         "name": "Chris Manghane",
         "orientation": "v",
         "showlegend": true,
         "textposition": "auto",
         "type": "bar",
         "x": [
          "Chris Manghane"
         ],
         "xaxis": "x",
         "y": {
          "bdata": "DA==",
          "dtype": "i1"
         },
         "yaxis": "y"
        },
        {
         "hovertemplate": "Assignee Name=%{x}<br>Number of Assignments=%{y}<extra></extra>",
         "legendgroup": "Dale Johannesen",
         "marker": {
          "color": "#FFA15A",
          "pattern": {
           "shape": ""
          }
         },
         "name": "Dale Johannesen",
         "orientation": "v",
         "showlegend": true,
         "textposition": "auto",
         "type": "bar",
         "x": [
          "Dale Johannesen"
         ],
         "xaxis": "x",
         "y": {
          "bdata": "Cg==",
          "dtype": "i1"
         },
         "yaxis": "y"
        },
        {
         "hovertemplate": "Assignee Name=%{x}<br>Number of Assignments=%{y}<extra></extra>",
         "legendgroup": "Christophe Lyon",
         "marker": {
          "color": "#19d3f3",
          "pattern": {
           "shape": ""
          }
         },
         "name": "Christophe Lyon",
         "orientation": "v",
         "showlegend": true,
         "textposition": "auto",
         "type": "bar",
         "x": [
          "Christophe Lyon"
         ],
         "xaxis": "x",
         "y": {
          "bdata": "Cg==",
          "dtype": "i1"
         },
         "yaxis": "y"
        },
        {
         "hovertemplate": "Assignee Name=%{x}<br>Number of Assignments=%{y}<extra></extra>",
         "legendgroup": "Aaron W. LaFramboise",
         "marker": {
          "color": "#FF6692",
          "pattern": {
           "shape": ""
          }
         },
         "name": "Aaron W. LaFramboise",
         "orientation": "v",
         "showlegend": true,
         "textposition": "auto",
         "type": "bar",
         "x": [
          "Aaron W. LaFramboise"
         ],
         "xaxis": "x",
         "y": {
          "bdata": "CQ==",
          "dtype": "i1"
         },
         "yaxis": "y"
        },
        {
         "hovertemplate": "Assignee Name=%{x}<br>Number of Assignments=%{y}<extra></extra>",
         "legendgroup": "Bernardo Innocenti",
         "marker": {
          "color": "#B6E880",
          "pattern": {
           "shape": ""
          }
         },
         "name": "Bernardo Innocenti",
         "orientation": "v",
         "showlegend": true,
         "textposition": "auto",
         "type": "bar",
         "x": [
          "Bernardo Innocenti"
         ],
         "xaxis": "x",
         "y": {
          "bdata": "CQ==",
          "dtype": "i1"
         },
         "yaxis": "y"
        },
        {
         "hovertemplate": "Assignee Name=%{x}<br>Number of Assignments=%{y}<extra></extra>",
         "legendgroup": "Adam Butcher",
         "marker": {
          "color": "#FF97FF",
          "pattern": {
           "shape": ""
          }
         },
         "name": "Adam Butcher",
         "orientation": "v",
         "showlegend": true,
         "textposition": "auto",
         "type": "bar",
         "x": [
          "Adam Butcher"
         ],
         "xaxis": "x",
         "y": {
          "bdata": "CQ==",
          "dtype": "i1"
         },
         "yaxis": "y"
        },
        {
         "hovertemplate": "Assignee Name=%{x}<br>Number of Assignments=%{y}<extra></extra>",
         "legendgroup": "Geert Bosch",
         "marker": {
          "color": "#FECB52",
          "pattern": {
           "shape": ""
          }
         },
         "name": "Geert Bosch",
         "orientation": "v",
         "showlegend": true,
         "textposition": "auto",
         "type": "bar",
         "x": [
          "Geert Bosch"
         ],
         "xaxis": "x",
         "y": {
          "bdata": "CA==",
          "dtype": "i1"
         },
         "yaxis": "y"
        },
        {
         "hovertemplate": "Assignee Name=%{x}<br>Number of Assignments=%{y}<extra></extra>",
         "legendgroup": "Bud Davis",
         "marker": {
          "color": "#636efa",
          "pattern": {
           "shape": ""
          }
         },
         "name": "Bud Davis",
         "orientation": "v",
         "showlegend": true,
         "textposition": "auto",
         "type": "bar",
         "x": [
          "Bud Davis"
         ],
         "xaxis": "x",
         "y": {
          "bdata": "CA==",
          "dtype": "i1"
         },
         "yaxis": "y"
        },
        {
         "hovertemplate": "Assignee Name=%{x}<br>Number of Assignments=%{y}<extra></extra>",
         "legendgroup": "Tom de Vries",
         "marker": {
          "color": "#EF553B",
          "pattern": {
           "shape": ""
          }
         },
         "name": "Tom de Vries",
         "orientation": "v",
         "showlegend": true,
         "textposition": "auto",
         "type": "bar",
         "x": [
          "Tom de Vries"
         ],
         "xaxis": "x",
         "y": {
          "bdata": "CA==",
          "dtype": "i1"
         },
         "yaxis": "y"
        },
        {
         "hovertemplate": "Assignee Name=%{x}<br>Number of Assignments=%{y}<extra></extra>",
         "legendgroup": "DJ Delorie",
         "marker": {
          "color": "#00cc96",
          "pattern": {
           "shape": ""
          }
         },
         "name": "DJ Delorie",
         "orientation": "v",
         "showlegend": true,
         "textposition": "auto",
         "type": "bar",
         "x": [
          "DJ Delorie"
         ],
         "xaxis": "x",
         "y": {
          "bdata": "Bg==",
          "dtype": "i1"
         },
         "yaxis": "y"
        },
        {
         "hovertemplate": "Assignee Name=%{x}<br>Number of Assignments=%{y}<extra></extra>",
         "legendgroup": "Per Bothner",
         "marker": {
          "color": "#ab63fa",
          "pattern": {
           "shape": ""
          }
         },
         "name": "Per Bothner",
         "orientation": "v",
         "showlegend": true,
         "textposition": "auto",
         "type": "bar",
         "x": [
          "Per Bothner"
         ],
         "xaxis": "x",
         "y": {
          "bdata": "Bg==",
          "dtype": "i1"
         },
         "yaxis": "y"
        },
        {
         "hovertemplate": "Assignee Name=%{x}<br>Number of Assignments=%{y}<extra></extra>",
         "legendgroup": "Martin Michlmayr",
         "marker": {
          "color": "#FFA15A",
          "pattern": {
           "shape": ""
          }
         },
         "name": "Martin Michlmayr",
         "orientation": "v",
         "showlegend": true,
         "textposition": "auto",
         "type": "bar",
         "x": [
          "Martin Michlmayr"
         ],
         "xaxis": "x",
         "y": {
          "bdata": "Aw==",
          "dtype": "i1"
         },
         "yaxis": "y"
        },
        {
         "hovertemplate": "Assignee Name=%{x}<br>Number of Assignments=%{y}<extra></extra>",
         "legendgroup": "Dominique d'Humieres",
         "marker": {
          "color": "#19d3f3",
          "pattern": {
           "shape": ""
          }
         },
         "name": "Dominique d'Humieres",
         "orientation": "v",
         "showlegend": true,
         "textposition": "auto",
         "type": "bar",
         "x": [
          "Dominique d'Humieres"
         ],
         "xaxis": "x",
         "y": {
          "bdata": "Aw==",
          "dtype": "i1"
         },
         "yaxis": "y"
        },
        {
         "hovertemplate": "Assignee Name=%{x}<br>Number of Assignments=%{y}<extra></extra>",
         "legendgroup": "Andris Pavenis",
         "marker": {
          "color": "#FF6692",
          "pattern": {
           "shape": ""
          }
         },
         "name": "Andris Pavenis",
         "orientation": "v",
         "showlegend": true,
         "textposition": "auto",
         "type": "bar",
         "x": [
          "Andris Pavenis"
         ],
         "xaxis": "x",
         "y": {
          "bdata": "Ag==",
          "dtype": "i1"
         },
         "yaxis": "y"
        },
        {
         "hovertemplate": "Assignee Name=%{x}<br>Number of Assignments=%{y}<extra></extra>",
         "legendgroup": "Matthias Klose",
         "marker": {
          "color": "#B6E880",
          "pattern": {
           "shape": ""
          }
         },
         "name": "Matthias Klose",
         "orientation": "v",
         "showlegend": true,
         "textposition": "auto",
         "type": "bar",
         "x": [
          "Matthias Klose"
         ],
         "xaxis": "x",
         "y": {
          "bdata": "Ag==",
          "dtype": "i1"
         },
         "yaxis": "y"
        },
        {
         "hovertemplate": "Assignee Name=%{x}<br>Number of Assignments=%{y}<extra></extra>",
         "legendgroup": "Michael Meissner",
         "marker": {
          "color": "#FF97FF",
          "pattern": {
           "shape": ""
          }
         },
         "name": "Michael Meissner",
         "orientation": "v",
         "showlegend": true,
         "textposition": "auto",
         "type": "bar",
         "x": [
          "Michael Meissner"
         ],
         "xaxis": "x",
         "y": {
          "bdata": "Ag==",
          "dtype": "i1"
         },
         "yaxis": "y"
        },
        {
         "hovertemplate": "Assignee Name=%{x}<br>Number of Assignments=%{y}<extra></extra>",
         "legendgroup": "davidxl",
         "marker": {
          "color": "#FECB52",
          "pattern": {
           "shape": ""
          }
         },
         "name": "davidxl",
         "orientation": "v",
         "showlegend": true,
         "textposition": "auto",
         "type": "bar",
         "x": [
          "davidxl"
         ],
         "xaxis": "x",
         "y": {
          "bdata": "Ag==",
          "dtype": "i1"
         },
         "yaxis": "y"
        },
        {
         "hovertemplate": "Assignee Name=%{x}<br>Number of Assignments=%{y}<extra></extra>",
         "legendgroup": "Tejas Belagod",
         "marker": {
          "color": "#636efa",
          "pattern": {
           "shape": ""
          }
         },
         "name": "Tejas Belagod",
         "orientation": "v",
         "showlegend": true,
         "textposition": "auto",
         "type": "bar",
         "x": [
          "Tejas Belagod"
         ],
         "xaxis": "x",
         "y": {
          "bdata": "Ag==",
          "dtype": "i1"
         },
         "yaxis": "y"
        },
        {
         "hovertemplate": "Assignee Name=%{x}<br>Number of Assignments=%{y}<extra></extra>",
         "legendgroup": "Jakub Jelinek",
         "marker": {
          "color": "#EF553B",
          "pattern": {
           "shape": ""
          }
         },
         "name": "Jakub Jelinek",
         "orientation": "v",
         "showlegend": true,
         "textposition": "auto",
         "type": "bar",
         "x": [
          "Jakub Jelinek"
         ],
         "xaxis": "x",
         "y": {
          "bdata": "Ag==",
          "dtype": "i1"
         },
         "yaxis": "y"
        },
        {
         "hovertemplate": "Assignee Name=%{x}<br>Number of Assignments=%{y}<extra></extra>",
         "legendgroup": "Ramana Radhakrishnan",
         "marker": {
          "color": "#00cc96",
          "pattern": {
           "shape": ""
          }
         },
         "name": "Ramana Radhakrishnan",
         "orientation": "v",
         "showlegend": true,
         "textposition": "auto",
         "type": "bar",
         "x": [
          "Ramana Radhakrishnan"
         ],
         "xaxis": "x",
         "y": {
          "bdata": "Ag==",
          "dtype": "i1"
         },
         "yaxis": "y"
        },
        {
         "hovertemplate": "Assignee Name=%{x}<br>Number of Assignments=%{y}<extra></extra>",
         "legendgroup": "Joost VandeVondele",
         "marker": {
          "color": "#ab63fa",
          "pattern": {
           "shape": ""
          }
         },
         "name": "Joost VandeVondele",
         "orientation": "v",
         "showlegend": true,
         "textposition": "auto",
         "type": "bar",
         "x": [
          "Joost VandeVondele"
         ],
         "xaxis": "x",
         "y": {
          "bdata": "Ag==",
          "dtype": "i1"
         },
         "yaxis": "y"
        },
        {
         "hovertemplate": "Assignee Name=%{x}<br>Number of Assignments=%{y}<extra></extra>",
         "legendgroup": "burnus@net-b.de",
         "marker": {
          "color": "#FFA15A",
          "pattern": {
           "shape": ""
          }
         },
         "name": "burnus@net-b.de",
         "orientation": "v",
         "showlegend": true,
         "textposition": "auto",
         "type": "bar",
         "x": [
          "burnus@net-b.de"
         ],
         "xaxis": "x",
         "y": {
          "bdata": "Ag==",
          "dtype": "i1"
         },
         "yaxis": "y"
        },
        {
         "hovertemplate": "Assignee Name=%{x}<br>Number of Assignments=%{y}<extra></extra>",
         "legendgroup": "Pierre-Marie de Rodat",
         "marker": {
          "color": "#19d3f3",
          "pattern": {
           "shape": ""
          }
         },
         "name": "Pierre-Marie de Rodat",
         "orientation": "v",
         "showlegend": true,
         "textposition": "auto",
         "type": "bar",
         "x": [
          "Pierre-Marie de Rodat"
         ],
         "xaxis": "x",
         "y": {
          "bdata": "Ag==",
          "dtype": "i1"
         },
         "yaxis": "y"
        },
        {
         "hovertemplate": "Assignee Name=%{x}<br>Number of Assignments=%{y}<extra></extra>",
         "legendgroup": "Andrew Pinski",
         "marker": {
          "color": "#FF6692",
          "pattern": {
           "shape": ""
          }
         },
         "name": "Andrew Pinski",
         "orientation": "v",
         "showlegend": true,
         "textposition": "auto",
         "type": "bar",
         "x": [
          "Andrew Pinski"
         ],
         "xaxis": "x",
         "y": {
          "bdata": "Ag==",
          "dtype": "i1"
         },
         "yaxis": "y"
        },
        {
         "hovertemplate": "Assignee Name=%{x}<br>Number of Assignments=%{y}<extra></extra>",
         "legendgroup": "Bill Schmidt",
         "marker": {
          "color": "#B6E880",
          "pattern": {
           "shape": ""
          }
         },
         "name": "Bill Schmidt",
         "orientation": "v",
         "showlegend": true,
         "textposition": "auto",
         "type": "bar",
         "x": [
          "Bill Schmidt"
         ],
         "xaxis": "x",
         "y": {
          "bdata": "AQ==",
          "dtype": "i1"
         },
         "yaxis": "y"
        },
        {
         "hovertemplate": "Assignee Name=%{x}<br>Number of Assignments=%{y}<extra></extra>",
         "legendgroup": "Martin Liška",
         "marker": {
          "color": "#FF97FF",
          "pattern": {
           "shape": ""
          }
         },
         "name": "Martin Liška",
         "orientation": "v",
         "showlegend": true,
         "textposition": "auto",
         "type": "bar",
         "x": [
          "Martin Liška"
         ],
         "xaxis": "x",
         "y": {
          "bdata": "AQ==",
          "dtype": "i1"
         },
         "yaxis": "y"
        },
        {
         "hovertemplate": "Assignee Name=%{x}<br>Number of Assignments=%{y}<extra></extra>",
         "legendgroup": "Segher Boessenkool",
         "marker": {
          "color": "#FECB52",
          "pattern": {
           "shape": ""
          }
         },
         "name": "Segher Boessenkool",
         "orientation": "v",
         "showlegend": true,
         "textposition": "auto",
         "type": "bar",
         "x": [
          "Segher Boessenkool"
         ],
         "xaxis": "x",
         "y": {
          "bdata": "AQ==",
          "dtype": "i1"
         },
         "yaxis": "y"
        },
        {
         "hovertemplate": "Assignee Name=%{x}<br>Number of Assignments=%{y}<extra></extra>",
         "legendgroup": "Andreas Schwab",
         "marker": {
          "color": "#636efa",
          "pattern": {
           "shape": ""
          }
         },
         "name": "Andreas Schwab",
         "orientation": "v",
         "showlegend": true,
         "textposition": "auto",
         "type": "bar",
         "x": [
          "Andreas Schwab"
         ],
         "xaxis": "x",
         "y": {
          "bdata": "AQ==",
          "dtype": "i1"
         },
         "yaxis": "y"
        },
        {
         "hovertemplate": "Assignee Name=%{x}<br>Number of Assignments=%{y}<extra></extra>",
         "legendgroup": "Richard Earnshaw",
         "marker": {
          "color": "#EF553B",
          "pattern": {
           "shape": ""
          }
         },
         "name": "Richard Earnshaw",
         "orientation": "v",
         "showlegend": true,
         "textposition": "auto",
         "type": "bar",
         "x": [
          "Richard Earnshaw"
         ],
         "xaxis": "x",
         "y": {
          "bdata": "AQ==",
          "dtype": "i1"
         },
         "yaxis": "y"
        },
        {
         "hovertemplate": "Assignee Name=%{x}<br>Number of Assignments=%{y}<extra></extra>",
         "legendgroup": "kargl@c-67-168-59-70.client.comcast.net",
         "marker": {
          "color": "#00cc96",
          "pattern": {
           "shape": ""
          }
         },
         "name": "kargl@c-67-168-59-70.client.comcast.net",
         "orientation": "v",
         "showlegend": true,
         "textposition": "auto",
         "type": "bar",
         "x": [
          "kargl@c-67-168-59-70.client.comcast.net"
         ],
         "xaxis": "x",
         "y": {
          "bdata": "AQ==",
          "dtype": "i1"
         },
         "yaxis": "y"
        },
        {
         "hovertemplate": "Assignee Name=%{x}<br>Number of Assignments=%{y}<extra></extra>",
         "legendgroup": "Victor Leikehman",
         "marker": {
          "color": "#ab63fa",
          "pattern": {
           "shape": ""
          }
         },
         "name": "Victor Leikehman",
         "orientation": "v",
         "showlegend": true,
         "textposition": "auto",
         "type": "bar",
         "x": [
          "Victor Leikehman"
         ],
         "xaxis": "x",
         "y": {
          "bdata": "AQ==",
          "dtype": "i1"
         },
         "yaxis": "y"
        },
        {
         "hovertemplate": "Assignee Name=%{x}<br>Number of Assignments=%{y}<extra></extra>",
         "legendgroup": "Serge Belyshev",
         "marker": {
          "color": "#FFA15A",
          "pattern": {
           "shape": ""
          }
         },
         "name": "Serge Belyshev",
         "orientation": "v",
         "showlegend": true,
         "textposition": "auto",
         "type": "bar",
         "x": [
          "Serge Belyshev"
         ],
         "xaxis": "x",
         "y": {
          "bdata": "AQ==",
          "dtype": "i1"
         },
         "yaxis": "y"
        },
        {
         "hovertemplate": "Assignee Name=%{x}<br>Number of Assignments=%{y}<extra></extra>",
         "legendgroup": "Bill Seurer",
         "marker": {
          "color": "#19d3f3",
          "pattern": {
           "shape": ""
          }
         },
         "name": "Bill Seurer",
         "orientation": "v",
         "showlegend": true,
         "textposition": "auto",
         "type": "bar",
         "x": [
          "Bill Seurer"
         ],
         "xaxis": "x",
         "y": {
          "bdata": "AQ==",
          "dtype": "i1"
         },
         "yaxis": "y"
        },
        {
         "hovertemplate": "Assignee Name=%{x}<br>Number of Assignments=%{y}<extra></extra>",
         "legendgroup": "Oleg Endo",
         "marker": {
          "color": "#FF6692",
          "pattern": {
           "shape": ""
          }
         },
         "name": "Oleg Endo",
         "orientation": "v",
         "showlegend": true,
         "textposition": "auto",
         "type": "bar",
         "x": [
          "Oleg Endo"
         ],
         "xaxis": "x",
         "y": {
          "bdata": "AQ==",
          "dtype": "i1"
         },
         "yaxis": "y"
        },
        {
         "hovertemplate": "Assignee Name=%{x}<br>Number of Assignments=%{y}<extra></extra>",
         "legendgroup": "Rafaël Carré",
         "marker": {
          "color": "#B6E880",
          "pattern": {
           "shape": ""
          }
         },
         "name": "Rafaël Carré",
         "orientation": "v",
         "showlegend": true,
         "textposition": "auto",
         "type": "bar",
         "x": [
          "Rafaël Carré"
         ],
         "xaxis": "x",
         "y": {
          "bdata": "AQ==",
          "dtype": "i1"
         },
         "yaxis": "y"
        },
        {
         "hovertemplate": "Assignee Name=%{x}<br>Number of Assignments=%{y}<extra></extra>",
         "legendgroup": "Nickolay Kolchin-Semyonov",
         "marker": {
          "color": "#FF97FF",
          "pattern": {
           "shape": ""
          }
         },
         "name": "Nickolay Kolchin-Semyonov",
         "orientation": "v",
         "showlegend": true,
         "textposition": "auto",
         "type": "bar",
         "x": [
          "Nickolay Kolchin-Semyonov"
         ],
         "xaxis": "x",
         "y": {
          "bdata": "AQ==",
          "dtype": "i1"
         },
         "yaxis": "y"
        },
        {
         "hovertemplate": "Assignee Name=%{x}<br>Number of Assignments=%{y}<extra></extra>",
         "legendgroup": "Christian Bruel",
         "marker": {
          "color": "#FECB52",
          "pattern": {
           "shape": ""
          }
         },
         "name": "Christian Bruel",
         "orientation": "v",
         "showlegend": true,
         "textposition": "auto",
         "type": "bar",
         "x": [
          "Christian Bruel"
         ],
         "xaxis": "x",
         "y": {
          "bdata": "AQ==",
          "dtype": "i1"
         },
         "yaxis": "y"
        },
        {
         "hovertemplate": "Assignee Name=%{x}<br>Number of Assignments=%{y}<extra></extra>",
         "legendgroup": "Caroline Tice",
         "marker": {
          "color": "#636efa",
          "pattern": {
           "shape": ""
          }
         },
         "name": "Caroline Tice",
         "orientation": "v",
         "showlegend": true,
         "textposition": "auto",
         "type": "bar",
         "x": [
          "Caroline Tice"
         ],
         "xaxis": "x",
         "y": {
          "bdata": "AQ==",
          "dtype": "i1"
         },
         "yaxis": "y"
        },
        {
         "hovertemplate": "Assignee Name=%{x}<br>Number of Assignments=%{y}<extra></extra>",
         "legendgroup": "Cong Hou",
         "marker": {
          "color": "#EF553B",
          "pattern": {
           "shape": ""
          }
         },
         "name": "Cong Hou",
         "orientation": "v",
         "showlegend": true,
         "textposition": "auto",
         "type": "bar",
         "x": [
          "Cong Hou"
         ],
         "xaxis": "x",
         "y": {
          "bdata": "AQ==",
          "dtype": "i1"
         },
         "yaxis": "y"
        },
        {
         "hovertemplate": "Assignee Name=%{x}<br>Number of Assignments=%{y}<extra></extra>",
         "legendgroup": "Ralf Corsepius",
         "marker": {
          "color": "#00cc96",
          "pattern": {
           "shape": ""
          }
         },
         "name": "Ralf Corsepius",
         "orientation": "v",
         "showlegend": true,
         "textposition": "auto",
         "type": "bar",
         "x": [
          "Ralf Corsepius"
         ],
         "xaxis": "x",
         "y": {
          "bdata": "AQ==",
          "dtype": "i1"
         },
         "yaxis": "y"
        },
        {
         "hovertemplate": "Assignee Name=%{x}<br>Number of Assignments=%{y}<extra></extra>",
         "legendgroup": "Dmitry Gorbachev",
         "marker": {
          "color": "#ab63fa",
          "pattern": {
           "shape": ""
          }
         },
         "name": "Dmitry Gorbachev",
         "orientation": "v",
         "showlegend": true,
         "textposition": "auto",
         "type": "bar",
         "x": [
          "Dmitry Gorbachev"
         ],
         "xaxis": "x",
         "y": {
          "bdata": "AQ==",
          "dtype": "i1"
         },
         "yaxis": "y"
        },
        {
         "hovertemplate": "Assignee Name=%{x}<br>Number of Assignments=%{y}<extra></extra>",
         "legendgroup": "Wolfgang Bangerth",
         "marker": {
          "color": "#FFA15A",
          "pattern": {
           "shape": ""
          }
         },
         "name": "Wolfgang Bangerth",
         "orientation": "v",
         "showlegend": true,
         "textposition": "auto",
         "type": "bar",
         "x": [
          "Wolfgang Bangerth"
         ],
         "xaxis": "x",
         "y": {
          "bdata": "AQ==",
          "dtype": "i1"
         },
         "yaxis": "y"
        },
        {
         "hovertemplate": "Assignee Name=%{x}<br>Number of Assignments=%{y}<extra></extra>",
         "legendgroup": "Daniel Krügler",
         "marker": {
          "color": "#19d3f3",
          "pattern": {
           "shape": ""
          }
         },
         "name": "Daniel Krügler",
         "orientation": "v",
         "showlegend": true,
         "textposition": "auto",
         "type": "bar",
         "x": [
          "Daniel Krügler"
         ],
         "xaxis": "x",
         "y": {
          "bdata": "AQ==",
          "dtype": "i1"
         },
         "yaxis": "y"
        },
        {
         "hovertemplate": "Assignee Name=%{x}<br>Number of Assignments=%{y}<extra></extra>",
         "legendgroup": "David Ung",
         "marker": {
          "color": "#FF6692",
          "pattern": {
           "shape": ""
          }
         },
         "name": "David Ung",
         "orientation": "v",
         "showlegend": true,
         "textposition": "auto",
         "type": "bar",
         "x": [
          "David Ung"
         ],
         "xaxis": "x",
         "y": {
          "bdata": "AQ==",
          "dtype": "i1"
         },
         "yaxis": "y"
        },
        {
         "hovertemplate": "Assignee Name=%{x}<br>Number of Assignments=%{y}<extra></extra>",
         "legendgroup": "Mikael Pettersson",
         "marker": {
          "color": "#B6E880",
          "pattern": {
           "shape": ""
          }
         },
         "name": "Mikael Pettersson",
         "orientation": "v",
         "showlegend": true,
         "textposition": "auto",
         "type": "bar",
         "x": [
          "Mikael Pettersson"
         ],
         "xaxis": "x",
         "y": {
          "bdata": "AQ==",
          "dtype": "i1"
         },
         "yaxis": "y"
        },
        {
         "hovertemplate": "Assignee Name=%{x}<br>Number of Assignments=%{y}<extra></extra>",
         "legendgroup": "Eric Botcazou",
         "marker": {
          "color": "#FF97FF",
          "pattern": {
           "shape": ""
          }
         },
         "name": "Eric Botcazou",
         "orientation": "v",
         "showlegend": true,
         "textposition": "auto",
         "type": "bar",
         "x": [
          "Eric Botcazou"
         ],
         "xaxis": "x",
         "y": {
          "bdata": "AQ==",
          "dtype": "i1"
         },
         "yaxis": "y"
        },
        {
         "hovertemplate": "Assignee Name=%{x}<br>Number of Assignments=%{y}<extra></extra>",
         "legendgroup": "patchapp@dberlin.org",
         "marker": {
          "color": "#FECB52",
          "pattern": {
           "shape": ""
          }
         },
         "name": "patchapp@dberlin.org",
         "orientation": "v",
         "showlegend": true,
         "textposition": "auto",
         "type": "bar",
         "x": [
          "patchapp@dberlin.org"
         ],
         "xaxis": "x",
         "y": {
          "bdata": "AQ==",
          "dtype": "i1"
         },
         "yaxis": "y"
        },
        {
         "hovertemplate": "Assignee Name=%{x}<br>Number of Assignments=%{y}<extra></extra>",
         "legendgroup": "H.J. Lu",
         "marker": {
          "color": "#636efa",
          "pattern": {
           "shape": ""
          }
         },
         "name": "H.J. Lu",
         "orientation": "v",
         "showlegend": true,
         "textposition": "auto",
         "type": "bar",
         "x": [
          "H.J. Lu"
         ],
         "xaxis": "x",
         "y": {
          "bdata": "AQ==",
          "dtype": "i1"
         },
         "yaxis": "y"
        },
        {
         "hovertemplate": "Assignee Name=%{x}<br>Number of Assignments=%{y}<extra></extra>",
         "legendgroup": "Uroš Bizjak",
         "marker": {
          "color": "#EF553B",
          "pattern": {
           "shape": ""
          }
         },
         "name": "Uroš Bizjak",
         "orientation": "v",
         "showlegend": true,
         "textposition": "auto",
         "type": "bar",
         "x": [
          "Uroš Bizjak"
         ],
         "xaxis": "x",
         "y": {
          "bdata": "AQ==",
          "dtype": "i1"
         },
         "yaxis": "y"
        }
       ],
       "layout": {
        "barmode": "relative",
        "legend": {
         "title": {
          "text": "Assignee Name"
         },
         "tracegroupgap": 0
        },
        "template": {
         "data": {
          "bar": [
           {
            "error_x": {
             "color": "#2a3f5f"
            },
            "error_y": {
             "color": "#2a3f5f"
            },
            "marker": {
             "line": {
              "color": "#E5ECF6",
              "width": 0.5
             },
             "pattern": {
              "fillmode": "overlay",
              "size": 10,
              "solidity": 0.2
             }
            },
            "type": "bar"
           }
          ],
          "barpolar": [
           {
            "marker": {
             "line": {
              "color": "#E5ECF6",
              "width": 0.5
             },
             "pattern": {
              "fillmode": "overlay",
              "size": 10,
              "solidity": 0.2
             }
            },
            "type": "barpolar"
           }
          ],
          "carpet": [
           {
            "aaxis": {
             "endlinecolor": "#2a3f5f",
             "gridcolor": "white",
             "linecolor": "white",
             "minorgridcolor": "white",
             "startlinecolor": "#2a3f5f"
            },
            "baxis": {
             "endlinecolor": "#2a3f5f",
             "gridcolor": "white",
             "linecolor": "white",
             "minorgridcolor": "white",
             "startlinecolor": "#2a3f5f"
            },
            "type": "carpet"
           }
          ],
          "choropleth": [
           {
            "colorbar": {
             "outlinewidth": 0,
             "ticks": ""
            },
            "type": "choropleth"
           }
          ],
          "contour": [
           {
            "colorbar": {
             "outlinewidth": 0,
             "ticks": ""
            },
            "colorscale": [
             [
              0,
              "#0d0887"
             ],
             [
              0.1111111111111111,
              "#46039f"
             ],
             [
              0.2222222222222222,
              "#7201a8"
             ],
             [
              0.3333333333333333,
              "#9c179e"
             ],
             [
              0.4444444444444444,
              "#bd3786"
             ],
             [
              0.5555555555555556,
              "#d8576b"
             ],
             [
              0.6666666666666666,
              "#ed7953"
             ],
             [
              0.7777777777777778,
              "#fb9f3a"
             ],
             [
              0.8888888888888888,
              "#fdca26"
             ],
             [
              1,
              "#f0f921"
             ]
            ],
            "type": "contour"
           }
          ],
          "contourcarpet": [
           {
            "colorbar": {
             "outlinewidth": 0,
             "ticks": ""
            },
            "type": "contourcarpet"
           }
          ],
          "heatmap": [
           {
            "colorbar": {
             "outlinewidth": 0,
             "ticks": ""
            },
            "colorscale": [
             [
              0,
              "#0d0887"
             ],
             [
              0.1111111111111111,
              "#46039f"
             ],
             [
              0.2222222222222222,
              "#7201a8"
             ],
             [
              0.3333333333333333,
              "#9c179e"
             ],
             [
              0.4444444444444444,
              "#bd3786"
             ],
             [
              0.5555555555555556,
              "#d8576b"
             ],
             [
              0.6666666666666666,
              "#ed7953"
             ],
             [
              0.7777777777777778,
              "#fb9f3a"
             ],
             [
              0.8888888888888888,
              "#fdca26"
             ],
             [
              1,
              "#f0f921"
             ]
            ],
            "type": "heatmap"
           }
          ],
          "histogram": [
           {
            "marker": {
             "pattern": {
              "fillmode": "overlay",
              "size": 10,
              "solidity": 0.2
             }
            },
            "type": "histogram"
           }
          ],
          "histogram2d": [
           {
            "colorbar": {
             "outlinewidth": 0,
             "ticks": ""
            },
            "colorscale": [
             [
              0,
              "#0d0887"
             ],
             [
              0.1111111111111111,
              "#46039f"
             ],
             [
              0.2222222222222222,
              "#7201a8"
             ],
             [
              0.3333333333333333,
              "#9c179e"
             ],
             [
              0.4444444444444444,
              "#bd3786"
             ],
             [
              0.5555555555555556,
              "#d8576b"
             ],
             [
              0.6666666666666666,
              "#ed7953"
             ],
             [
              0.7777777777777778,
              "#fb9f3a"
             ],
             [
              0.8888888888888888,
              "#fdca26"
             ],
             [
              1,
              "#f0f921"
             ]
            ],
            "type": "histogram2d"
           }
          ],
          "histogram2dcontour": [
           {
            "colorbar": {
             "outlinewidth": 0,
             "ticks": ""
            },
            "colorscale": [
             [
              0,
              "#0d0887"
             ],
             [
              0.1111111111111111,
              "#46039f"
             ],
             [
              0.2222222222222222,
              "#7201a8"
             ],
             [
              0.3333333333333333,
              "#9c179e"
             ],
             [
              0.4444444444444444,
              "#bd3786"
             ],
             [
              0.5555555555555556,
              "#d8576b"
             ],
             [
              0.6666666666666666,
              "#ed7953"
             ],
             [
              0.7777777777777778,
              "#fb9f3a"
             ],
             [
              0.8888888888888888,
              "#fdca26"
             ],
             [
              1,
              "#f0f921"
             ]
            ],
            "type": "histogram2dcontour"
           }
          ],
          "mesh3d": [
           {
            "colorbar": {
             "outlinewidth": 0,
             "ticks": ""
            },
            "type": "mesh3d"
           }
          ],
          "parcoords": [
           {
            "line": {
             "colorbar": {
              "outlinewidth": 0,
              "ticks": ""
             }
            },
            "type": "parcoords"
           }
          ],
          "pie": [
           {
            "automargin": true,
            "type": "pie"
           }
          ],
          "scatter": [
           {
            "fillpattern": {
             "fillmode": "overlay",
             "size": 10,
             "solidity": 0.2
            },
            "type": "scatter"
           }
          ],
          "scatter3d": [
           {
            "line": {
             "colorbar": {
              "outlinewidth": 0,
              "ticks": ""
             }
            },
            "marker": {
             "colorbar": {
              "outlinewidth": 0,
              "ticks": ""
             }
            },
            "type": "scatter3d"
           }
          ],
          "scattercarpet": [
           {
            "marker": {
             "colorbar": {
              "outlinewidth": 0,
              "ticks": ""
             }
            },
            "type": "scattercarpet"
           }
          ],
          "scattergeo": [
           {
            "marker": {
             "colorbar": {
              "outlinewidth": 0,
              "ticks": ""
             }
            },
            "type": "scattergeo"
           }
          ],
          "scattergl": [
           {
            "marker": {
             "colorbar": {
              "outlinewidth": 0,
              "ticks": ""
             }
            },
            "type": "scattergl"
           }
          ],
          "scattermap": [
           {
            "marker": {
             "colorbar": {
              "outlinewidth": 0,
              "ticks": ""
             }
            },
            "type": "scattermap"
           }
          ],
          "scattermapbox": [
           {
            "marker": {
             "colorbar": {
              "outlinewidth": 0,
              "ticks": ""
             }
            },
            "type": "scattermapbox"
           }
          ],
          "scatterpolar": [
           {
            "marker": {
             "colorbar": {
              "outlinewidth": 0,
              "ticks": ""
             }
            },
            "type": "scatterpolar"
           }
          ],
          "scatterpolargl": [
           {
            "marker": {
             "colorbar": {
              "outlinewidth": 0,
              "ticks": ""
             }
            },
            "type": "scatterpolargl"
           }
          ],
          "scatterternary": [
           {
            "marker": {
             "colorbar": {
              "outlinewidth": 0,
              "ticks": ""
             }
            },
            "type": "scatterternary"
           }
          ],
          "surface": [
           {
            "colorbar": {
             "outlinewidth": 0,
             "ticks": ""
            },
            "colorscale": [
             [
              0,
              "#0d0887"
             ],
             [
              0.1111111111111111,
              "#46039f"
             ],
             [
              0.2222222222222222,
              "#7201a8"
             ],
             [
              0.3333333333333333,
              "#9c179e"
             ],
             [
              0.4444444444444444,
              "#bd3786"
             ],
             [
              0.5555555555555556,
              "#d8576b"
             ],
             [
              0.6666666666666666,
              "#ed7953"
             ],
             [
              0.7777777777777778,
              "#fb9f3a"
             ],
             [
              0.8888888888888888,
              "#fdca26"
             ],
             [
              1,
              "#f0f921"
             ]
            ],
            "type": "surface"
           }
          ],
          "table": [
           {
            "cells": {
             "fill": {
              "color": "#EBF0F8"
             },
             "line": {
              "color": "white"
             }
            },
            "header": {
             "fill": {
              "color": "#C8D4E3"
             },
             "line": {
              "color": "white"
             }
            },
            "type": "table"
           }
          ]
         },
         "layout": {
          "annotationdefaults": {
           "arrowcolor": "#2a3f5f",
           "arrowhead": 0,
           "arrowwidth": 1
          },
          "autotypenumbers": "strict",
          "coloraxis": {
           "colorbar": {
            "outlinewidth": 0,
            "ticks": ""
           }
          },
          "colorscale": {
           "diverging": [
            [
             0,
             "#8e0152"
            ],
            [
             0.1,
             "#c51b7d"
            ],
            [
             0.2,
             "#de77ae"
            ],
            [
             0.3,
             "#f1b6da"
            ],
            [
             0.4,
             "#fde0ef"
            ],
            [
             0.5,
             "#f7f7f7"
            ],
            [
             0.6,
             "#e6f5d0"
            ],
            [
             0.7,
             "#b8e186"
            ],
            [
             0.8,
             "#7fbc41"
            ],
            [
             0.9,
             "#4d9221"
            ],
            [
             1,
             "#276419"
            ]
           ],
           "sequential": [
            [
             0,
             "#0d0887"
            ],
            [
             0.1111111111111111,
             "#46039f"
            ],
            [
             0.2222222222222222,
             "#7201a8"
            ],
            [
             0.3333333333333333,
             "#9c179e"
            ],
            [
             0.4444444444444444,
             "#bd3786"
            ],
            [
             0.5555555555555556,
             "#d8576b"
            ],
            [
             0.6666666666666666,
             "#ed7953"
            ],
            [
             0.7777777777777778,
             "#fb9f3a"
            ],
            [
             0.8888888888888888,
             "#fdca26"
            ],
            [
             1,
             "#f0f921"
            ]
           ],
           "sequentialminus": [
            [
             0,
             "#0d0887"
            ],
            [
             0.1111111111111111,
             "#46039f"
            ],
            [
             0.2222222222222222,
             "#7201a8"
            ],
            [
             0.3333333333333333,
             "#9c179e"
            ],
            [
             0.4444444444444444,
             "#bd3786"
            ],
            [
             0.5555555555555556,
             "#d8576b"
            ],
            [
             0.6666666666666666,
             "#ed7953"
            ],
            [
             0.7777777777777778,
             "#fb9f3a"
            ],
            [
             0.8888888888888888,
             "#fdca26"
            ],
            [
             1,
             "#f0f921"
            ]
           ]
          },
          "colorway": [
           "#636efa",
           "#EF553B",
           "#00cc96",
           "#ab63fa",
           "#FFA15A",
           "#19d3f3",
           "#FF6692",
           "#B6E880",
           "#FF97FF",
           "#FECB52"
          ],
          "font": {
           "color": "#2a3f5f"
          },
          "geo": {
           "bgcolor": "white",
           "lakecolor": "white",
           "landcolor": "#E5ECF6",
           "showlakes": true,
           "showland": true,
           "subunitcolor": "white"
          },
          "hoverlabel": {
           "align": "left"
          },
          "hovermode": "closest",
          "mapbox": {
           "style": "light"
          },
          "paper_bgcolor": "white",
          "plot_bgcolor": "#E5ECF6",
          "polar": {
           "angularaxis": {
            "gridcolor": "white",
            "linecolor": "white",
            "ticks": ""
           },
           "bgcolor": "#E5ECF6",
           "radialaxis": {
            "gridcolor": "white",
            "linecolor": "white",
            "ticks": ""
           }
          },
          "scene": {
           "xaxis": {
            "backgroundcolor": "#E5ECF6",
            "gridcolor": "white",
            "gridwidth": 2,
            "linecolor": "white",
            "showbackground": true,
            "ticks": "",
            "zerolinecolor": "white"
           },
           "yaxis": {
            "backgroundcolor": "#E5ECF6",
            "gridcolor": "white",
            "gridwidth": 2,
            "linecolor": "white",
            "showbackground": true,
            "ticks": "",
            "zerolinecolor": "white"
           },
           "zaxis": {
            "backgroundcolor": "#E5ECF6",
            "gridcolor": "white",
            "gridwidth": 2,
            "linecolor": "white",
            "showbackground": true,
            "ticks": "",
            "zerolinecolor": "white"
           }
          },
          "shapedefaults": {
           "line": {
            "color": "#2a3f5f"
           }
          },
          "ternary": {
           "aaxis": {
            "gridcolor": "white",
            "linecolor": "white",
            "ticks": ""
           },
           "baxis": {
            "gridcolor": "white",
            "linecolor": "white",
            "ticks": ""
           },
           "bgcolor": "#E5ECF6",
           "caxis": {
            "gridcolor": "white",
            "linecolor": "white",
            "ticks": ""
           }
          },
          "title": {
           "x": 0.05
          },
          "xaxis": {
           "automargin": true,
           "gridcolor": "white",
           "linecolor": "white",
           "ticks": "",
           "title": {
            "standoff": 15
           },
           "zerolinecolor": "white",
           "zerolinewidth": 2
          },
          "yaxis": {
           "automargin": true,
           "gridcolor": "white",
           "linecolor": "white",
           "ticks": "",
           "title": {
            "standoff": 15
           },
           "zerolinecolor": "white",
           "zerolinewidth": 2
          }
         }
        },
        "title": {
         "text": "Assignee Distribution 📊"
        },
        "xaxis": {
         "anchor": "y",
         "categoryarray": [
          "Tobias Burnus",
          "Benjamin Kosnik",
          "Alexandre Petit-Bianco",
          "Paolo Bonzini",
          "David Edelsohn",
          "Alexandre Oliva",
          "Alan Modra",
          "David Malcolm",
          "Andrew Haley",
          "Bryce McKinlay",
          "John David Anglin",
          "Aldy Hernandez",
          "Daniel Berlin",
          "Ben Elliston",
          "bin cheng",
          "Peter Bergner",
          "Bernd Schmidt",
          "Danny Smith",
          "Daniel Franke",
          "David Daney",
          "Dave Korn",
          "David Billinghurst",
          "Andrey Belevantsev",
          "Andreas Tobler",
          "Alexander Monakov",
          "Brooks Moses",
          "Volker Reichelt",
          "David S. Miller",
          "Stephane Carrez",
          "Arnaud Charlet",
          "Cary Coutant",
          "Andrew Macleod",
          "Jorn Wolfgang Rennecke",
          "Chris Manghane",
          "Dale Johannesen",
          "Christophe Lyon",
          "Aaron W. LaFramboise",
          "Bernardo Innocenti",
          "Adam Butcher",
          "Geert Bosch",
          "Bud Davis",
          "Tom de Vries",
          "DJ Delorie",
          "Per Bothner",
          "Martin Michlmayr",
          "Dominique d'Humieres",
          "Andris Pavenis",
          "Matthias Klose",
          "Michael Meissner",
          "davidxl",
          "Tejas Belagod",
          "Jakub Jelinek",
          "Ramana Radhakrishnan",
          "Joost VandeVondele",
          "burnus@net-b.de",
          "Pierre-Marie de Rodat",
          "Andrew Pinski",
          "Bill Schmidt",
          "Martin Liška",
          "Segher Boessenkool",
          "Andreas Schwab",
          "Richard Earnshaw",
          "kargl@c-67-168-59-70.client.comcast.net",
          "Victor Leikehman",
          "Serge Belyshev",
          "Bill Seurer",
          "Oleg Endo",
          "Rafaël Carré",
          "Nickolay Kolchin-Semyonov",
          "Christian Bruel",
          "Caroline Tice",
          "Cong Hou",
          "Ralf Corsepius",
          "Dmitry Gorbachev",
          "Wolfgang Bangerth",
          "Daniel Krügler",
          "David Ung",
          "Mikael Pettersson",
          "Eric Botcazou",
          "patchapp@dberlin.org",
          "H.J. Lu",
          "Uroš Bizjak"
         ],
         "categoryorder": "array",
         "domain": [
          0,
          1
         ],
         "title": {
          "text": "Assignee Name"
         }
        },
        "yaxis": {
         "anchor": "x",
         "domain": [
          0,
          1
         ],
         "title": {
          "text": "Number of Assignments"
         }
        }
       }
      }
     },
     "metadata": {},
     "output_type": "display_data"
    },
    {
     "data": {
      "application/vnd.plotly.v1+json": {
       "config": {
        "plotlyServerURL": "https://plot.ly"
       },
       "data": [
        {
         "branchvalues": "total",
         "customdata": {
          "bdata": "AAAAAACAcEAAAAAAABBwQAAAAAAA4GNAAAAAAACAW0AAAAAAAMBYQAAAAAAAwFdAAAAAAABAVkAAAAAAAIBRQAAAAAAAwFBAAAAAAACATEAAAAAAAIBMQAAAAAAAAEhAAAAAAACAR0AAAAAAAABGQAAAAAAAgEVAAAAAAACAQkAAAAAAAIBBQAAAAAAAAEFAAAAAAACAQEAAAAAAAAA9QAAAAAAAAD1AAAAAAAAAPUAAAAAAAAA7QAAAAAAAADtAAAAAAAAAOkAAAAAAAAA2QAAAAAAAADRAAAAAAAAANEAAAAAAAAAzQAAAAAAAADJAAAAAAAAAMEAAAAAAAAAsQAAAAAAAACxAAAAAAAAAKEAAAAAAAAAkQAAAAAAAACRAAAAAAAAAIkAAAAAAAAAiQAAAAAAAACJAAAAAAAAAIEAAAAAAAAAgQAAAAAAAACBAAAAAAAAAGEAAAAAAAAAYQAAAAAAAAAhAAAAAAAAACEAAAAAAAAAAQAAAAAAAAABAAAAAAAAAAEAAAAAAAAAAQAAAAAAAAABAAAAAAAAAAEAAAAAAAAAAQAAAAAAAAABAAAAAAAAAAEAAAAAAAAAAQAAAAAAAAABAAAAAAAAA8D8AAAAAAADwPwAAAAAAAPA/AAAAAAAA8D8AAAAAAADwPwAAAAAAAPA/AAAAAAAA8D8AAAAAAADwPwAAAAAAAPA/AAAAAAAA8D8AAAAAAADwPwAAAAAAAPA/AAAAAAAA8D8AAAAAAADwPwAAAAAAAPA/AAAAAAAA8D8AAAAAAADwPwAAAAAAAPA/AAAAAAAA8D8AAAAAAADwPwAAAAAAAPA/AAAAAAAA8D8AAAAAAADwPwAAAAAAAPA/AAAAAAAA8D9k/6Lj3i9cQA==",
          "dtype": "f8",
          "shape": "83, 1"
         },
         "domain": {
          "x": [
           0,
           1
          ],
          "y": [
           0,
           1
          ]
         },
         "hovertemplate": "labels=%{label}<br>Count_sum=%{value}<br>parent=%{parent}<br>id=%{id}<br>Count=%{color}<extra></extra>",
         "ids": [
          "All Assignees/Tobias Burnus",
          "All Assignees/Benjamin Kosnik",
          "All Assignees/Alexandre Petit-Bianco",
          "All Assignees/Paolo Bonzini",
          "All Assignees/David Edelsohn",
          "All Assignees/Alexandre Oliva",
          "All Assignees/Alan Modra",
          "All Assignees/David Malcolm",
          "All Assignees/Andrew Haley",
          "All Assignees/Bryce McKinlay",
          "All Assignees/John David Anglin",
          "All Assignees/Aldy Hernandez",
          "All Assignees/Daniel Berlin",
          "All Assignees/Ben Elliston",
          "All Assignees/bin cheng",
          "All Assignees/Peter Bergner",
          "All Assignees/Bernd Schmidt",
          "All Assignees/Danny Smith",
          "All Assignees/Daniel Franke",
          "All Assignees/David Daney",
          "All Assignees/Dave Korn",
          "All Assignees/David Billinghurst",
          "All Assignees/Andrey Belevantsev",
          "All Assignees/Andreas Tobler",
          "All Assignees/Alexander Monakov",
          "All Assignees/Brooks Moses",
          "All Assignees/Volker Reichelt",
          "All Assignees/David S. Miller",
          "All Assignees/Stephane Carrez",
          "All Assignees/Arnaud Charlet",
          "All Assignees/Cary Coutant",
          "All Assignees/Andrew Macleod",
          "All Assignees/Jorn Wolfgang Rennecke",
          "All Assignees/Chris Manghane",
          "All Assignees/Dale Johannesen",
          "All Assignees/Christophe Lyon",
          "All Assignees/Aaron W. LaFramboise",
          "All Assignees/Bernardo Innocenti",
          "All Assignees/Adam Butcher",
          "All Assignees/Geert Bosch",
          "All Assignees/Bud Davis",
          "All Assignees/Tom de Vries",
          "All Assignees/DJ Delorie",
          "All Assignees/Per Bothner",
          "All Assignees/Martin Michlmayr",
          "All Assignees/Dominique d'Humieres",
          "All Assignees/Andris Pavenis",
          "All Assignees/Matthias Klose",
          "All Assignees/Michael Meissner",
          "All Assignees/davidxl",
          "All Assignees/Tejas Belagod",
          "All Assignees/Jakub Jelinek",
          "All Assignees/Ramana Radhakrishnan",
          "All Assignees/Joost VandeVondele",
          "All Assignees/burnus@net-b.de",
          "All Assignees/Pierre-Marie de Rodat",
          "All Assignees/Andrew Pinski",
          "All Assignees/Bill Schmidt",
          "All Assignees/Martin Liška",
          "All Assignees/Segher Boessenkool",
          "All Assignees/Andreas Schwab",
          "All Assignees/Richard Earnshaw",
          "All Assignees/kargl@c-67-168-59-70.client.comcast.net",
          "All Assignees/Victor Leikehman",
          "All Assignees/Serge Belyshev",
          "All Assignees/Bill Seurer",
          "All Assignees/Oleg Endo",
          "All Assignees/Rafaël Carré",
          "All Assignees/Nickolay Kolchin-Semyonov",
          "All Assignees/Christian Bruel",
          "All Assignees/Caroline Tice",
          "All Assignees/Cong Hou",
          "All Assignees/Ralf Corsepius",
          "All Assignees/Dmitry Gorbachev",
          "All Assignees/Wolfgang Bangerth",
          "All Assignees/Daniel Krügler",
          "All Assignees/David Ung",
          "All Assignees/Mikael Pettersson",
          "All Assignees/Eric Botcazou",
          "All Assignees/patchapp@dberlin.org",
          "All Assignees/H.J. Lu",
          "All Assignees/Uroš Bizjak",
          "All Assignees"
         ],
         "labels": [
          "Tobias Burnus",
          "Benjamin Kosnik",
          "Alexandre Petit-Bianco",
          "Paolo Bonzini",
          "David Edelsohn",
          "Alexandre Oliva",
          "Alan Modra",
          "David Malcolm",
          "Andrew Haley",
          "Bryce McKinlay",
          "John David Anglin",
          "Aldy Hernandez",
          "Daniel Berlin",
          "Ben Elliston",
          "bin cheng",
          "Peter Bergner",
          "Bernd Schmidt",
          "Danny Smith",
          "Daniel Franke",
          "David Daney",
          "Dave Korn",
          "David Billinghurst",
          "Andrey Belevantsev",
          "Andreas Tobler",
          "Alexander Monakov",
          "Brooks Moses",
          "Volker Reichelt",
          "David S. Miller",
          "Stephane Carrez",
          "Arnaud Charlet",
          "Cary Coutant",
          "Andrew Macleod",
          "Jorn Wolfgang Rennecke",
          "Chris Manghane",
          "Dale Johannesen",
          "Christophe Lyon",
          "Aaron W. LaFramboise",
          "Bernardo Innocenti",
          "Adam Butcher",
          "Geert Bosch",
          "Bud Davis",
          "Tom de Vries",
          "DJ Delorie",
          "Per Bothner",
          "Martin Michlmayr",
          "Dominique d'Humieres",
          "Andris Pavenis",
          "Matthias Klose",
          "Michael Meissner",
          "davidxl",
          "Tejas Belagod",
          "Jakub Jelinek",
          "Ramana Radhakrishnan",
          "Joost VandeVondele",
          "burnus@net-b.de",
          "Pierre-Marie de Rodat",
          "Andrew Pinski",
          "Bill Schmidt",
          "Martin Liška",
          "Segher Boessenkool",
          "Andreas Schwab",
          "Richard Earnshaw",
          "kargl@c-67-168-59-70.client.comcast.net",
          "Victor Leikehman",
          "Serge Belyshev",
          "Bill Seurer",
          "Oleg Endo",
          "Rafaël Carré",
          "Nickolay Kolchin-Semyonov",
          "Christian Bruel",
          "Caroline Tice",
          "Cong Hou",
          "Ralf Corsepius",
          "Dmitry Gorbachev",
          "Wolfgang Bangerth",
          "Daniel Krügler",
          "David Ung",
          "Mikael Pettersson",
          "Eric Botcazou",
          "patchapp@dberlin.org",
          "H.J. Lu",
          "Uroš Bizjak",
          "All Assignees"
         ],
         "marker": {
          "coloraxis": "coloraxis",
          "colors": {
           "bdata": "AAAAAACAcEAAAAAAABBwQAAAAAAA4GNAAAAAAACAW0AAAAAAAMBYQAAAAAAAwFdAAAAAAABAVkAAAAAAAIBRQAAAAAAAwFBAAAAAAACATEAAAAAAAIBMQAAAAAAAAEhAAAAAAACAR0AAAAAAAABGQAAAAAAAgEVAAAAAAACAQkAAAAAAAIBBQAAAAAAAAEFAAAAAAACAQEAAAAAAAAA9QAAAAAAAAD1AAAAAAAAAPUAAAAAAAAA7QAAAAAAAADtAAAAAAAAAOkAAAAAAAAA2QAAAAAAAADRAAAAAAAAANEAAAAAAAAAzQAAAAAAAADJAAAAAAAAAMEAAAAAAAAAsQAAAAAAAACxAAAAAAAAAKEAAAAAAAAAkQAAAAAAAACRAAAAAAAAAIkAAAAAAAAAiQAAAAAAAACJAAAAAAAAAIEAAAAAAAAAgQAAAAAAAACBAAAAAAAAAGEAAAAAAAAAYQAAAAAAAAAhAAAAAAAAACEAAAAAAAAAAQAAAAAAAAABAAAAAAAAAAEAAAAAAAAAAQAAAAAAAAABAAAAAAAAAAEAAAAAAAAAAQAAAAAAAAABAAAAAAAAAAEAAAAAAAAAAQAAAAAAAAABAAAAAAAAA8D8AAAAAAADwPwAAAAAAAPA/AAAAAAAA8D8AAAAAAADwPwAAAAAAAPA/AAAAAAAA8D8AAAAAAADwPwAAAAAAAPA/AAAAAAAA8D8AAAAAAADwPwAAAAAAAPA/AAAAAAAA8D8AAAAAAADwPwAAAAAAAPA/AAAAAAAA8D8AAAAAAADwPwAAAAAAAPA/AAAAAAAA8D8AAAAAAADwPwAAAAAAAPA/AAAAAAAA8D8AAAAAAADwPwAAAAAAAPA/AAAAAAAA8D9k/6Lj3i9cQA==",
           "dtype": "f8"
          }
         },
         "name": "",
         "parents": [
          "All Assignees",
          "All Assignees",
          "All Assignees",
          "All Assignees",
          "All Assignees",
          "All Assignees",
          "All Assignees",
          "All Assignees",
          "All Assignees",
          "All Assignees",
          "All Assignees",
          "All Assignees",
          "All Assignees",
          "All Assignees",
          "All Assignees",
          "All Assignees",
          "All Assignees",
          "All Assignees",
          "All Assignees",
          "All Assignees",
          "All Assignees",
          "All Assignees",
          "All Assignees",
          "All Assignees",
          "All Assignees",
          "All Assignees",
          "All Assignees",
          "All Assignees",
          "All Assignees",
          "All Assignees",
          "All Assignees",
          "All Assignees",
          "All Assignees",
          "All Assignees",
          "All Assignees",
          "All Assignees",
          "All Assignees",
          "All Assignees",
          "All Assignees",
          "All Assignees",
          "All Assignees",
          "All Assignees",
          "All Assignees",
          "All Assignees",
          "All Assignees",
          "All Assignees",
          "All Assignees",
          "All Assignees",
          "All Assignees",
          "All Assignees",
          "All Assignees",
          "All Assignees",
          "All Assignees",
          "All Assignees",
          "All Assignees",
          "All Assignees",
          "All Assignees",
          "All Assignees",
          "All Assignees",
          "All Assignees",
          "All Assignees",
          "All Assignees",
          "All Assignees",
          "All Assignees",
          "All Assignees",
          "All Assignees",
          "All Assignees",
          "All Assignees",
          "All Assignees",
          "All Assignees",
          "All Assignees",
          "All Assignees",
          "All Assignees",
          "All Assignees",
          "All Assignees",
          "All Assignees",
          "All Assignees",
          "All Assignees",
          "All Assignees",
          "All Assignees",
          "All Assignees",
          "All Assignees",
          ""
         ],
         "type": "treemap",
         "values": {
          "bdata": "AAAAAACAcEAAAAAAABBwQAAAAAAA4GNAAAAAAACAW0AAAAAAAMBYQAAAAAAAwFdAAAAAAABAVkAAAAAAAIBRQAAAAAAAwFBAAAAAAACATEAAAAAAAIBMQAAAAAAAAEhAAAAAAACAR0AAAAAAAABGQAAAAAAAgEVAAAAAAACAQkAAAAAAAIBBQAAAAAAAAEFAAAAAAACAQEAAAAAAAAA9QAAAAAAAAD1AAAAAAAAAPUAAAAAAAAA7QAAAAAAAADtAAAAAAAAAOkAAAAAAAAA2QAAAAAAAADRAAAAAAAAANEAAAAAAAAAzQAAAAAAAADJAAAAAAAAAMEAAAAAAAAAsQAAAAAAAACxAAAAAAAAAKEAAAAAAAAAkQAAAAAAAACRAAAAAAAAAIkAAAAAAAAAiQAAAAAAAACJAAAAAAAAAIEAAAAAAAAAgQAAAAAAAACBAAAAAAAAAGEAAAAAAAAAYQAAAAAAAAAhAAAAAAAAACEAAAAAAAAAAQAAAAAAAAABAAAAAAAAAAEAAAAAAAAAAQAAAAAAAAABAAAAAAAAAAEAAAAAAAAAAQAAAAAAAAABAAAAAAAAAAEAAAAAAAAAAQAAAAAAAAABAAAAAAAAA8D8AAAAAAADwPwAAAAAAAPA/AAAAAAAA8D8AAAAAAADwPwAAAAAAAPA/AAAAAAAA8D8AAAAAAADwPwAAAAAAAPA/AAAAAAAA8D8AAAAAAADwPwAAAAAAAPA/AAAAAAAA8D8AAAAAAADwPwAAAAAAAPA/AAAAAAAA8D8AAAAAAADwPwAAAAAAAPA/AAAAAAAA8D8AAAAAAADwPwAAAAAAAPA/AAAAAAAA8D8AAAAAAADwPwAAAAAAAPA/AAAAAAAA8D8AAAAAAG6gQA==",
          "dtype": "f8"
         }
        }
       ],
       "layout": {
        "coloraxis": {
         "colorbar": {
          "title": {
           "text": "Count"
          }
         },
         "colorscale": [
          [
           0,
           "#440154"
          ],
          [
           0.1111111111111111,
           "#482878"
          ],
          [
           0.2222222222222222,
           "#3e4989"
          ],
          [
           0.3333333333333333,
           "#31688e"
          ],
          [
           0.4444444444444444,
           "#26828e"
          ],
          [
           0.5555555555555556,
           "#1f9e89"
          ],
          [
           0.6666666666666666,
           "#35b779"
          ],
          [
           0.7777777777777778,
           "#6ece58"
          ],
          [
           0.8888888888888888,
           "#b5de2b"
          ],
          [
           1,
           "#fde725"
          ]
         ]
        },
        "legend": {
         "tracegroupgap": 0
        },
        "margin": {
         "b": 25,
         "l": 25,
         "r": 25,
         "t": 50
        },
        "template": {
         "data": {
          "bar": [
           {
            "error_x": {
             "color": "#2a3f5f"
            },
            "error_y": {
             "color": "#2a3f5f"
            },
            "marker": {
             "line": {
              "color": "#E5ECF6",
              "width": 0.5
             },
             "pattern": {
              "fillmode": "overlay",
              "size": 10,
              "solidity": 0.2
             }
            },
            "type": "bar"
           }
          ],
          "barpolar": [
           {
            "marker": {
             "line": {
              "color": "#E5ECF6",
              "width": 0.5
             },
             "pattern": {
              "fillmode": "overlay",
              "size": 10,
              "solidity": 0.2
             }
            },
            "type": "barpolar"
           }
          ],
          "carpet": [
           {
            "aaxis": {
             "endlinecolor": "#2a3f5f",
             "gridcolor": "white",
             "linecolor": "white",
             "minorgridcolor": "white",
             "startlinecolor": "#2a3f5f"
            },
            "baxis": {
             "endlinecolor": "#2a3f5f",
             "gridcolor": "white",
             "linecolor": "white",
             "minorgridcolor": "white",
             "startlinecolor": "#2a3f5f"
            },
            "type": "carpet"
           }
          ],
          "choropleth": [
           {
            "colorbar": {
             "outlinewidth": 0,
             "ticks": ""
            },
            "type": "choropleth"
           }
          ],
          "contour": [
           {
            "colorbar": {
             "outlinewidth": 0,
             "ticks": ""
            },
            "colorscale": [
             [
              0,
              "#0d0887"
             ],
             [
              0.1111111111111111,
              "#46039f"
             ],
             [
              0.2222222222222222,
              "#7201a8"
             ],
             [
              0.3333333333333333,
              "#9c179e"
             ],
             [
              0.4444444444444444,
              "#bd3786"
             ],
             [
              0.5555555555555556,
              "#d8576b"
             ],
             [
              0.6666666666666666,
              "#ed7953"
             ],
             [
              0.7777777777777778,
              "#fb9f3a"
             ],
             [
              0.8888888888888888,
              "#fdca26"
             ],
             [
              1,
              "#f0f921"
             ]
            ],
            "type": "contour"
           }
          ],
          "contourcarpet": [
           {
            "colorbar": {
             "outlinewidth": 0,
             "ticks": ""
            },
            "type": "contourcarpet"
           }
          ],
          "heatmap": [
           {
            "colorbar": {
             "outlinewidth": 0,
             "ticks": ""
            },
            "colorscale": [
             [
              0,
              "#0d0887"
             ],
             [
              0.1111111111111111,
              "#46039f"
             ],
             [
              0.2222222222222222,
              "#7201a8"
             ],
             [
              0.3333333333333333,
              "#9c179e"
             ],
             [
              0.4444444444444444,
              "#bd3786"
             ],
             [
              0.5555555555555556,
              "#d8576b"
             ],
             [
              0.6666666666666666,
              "#ed7953"
             ],
             [
              0.7777777777777778,
              "#fb9f3a"
             ],
             [
              0.8888888888888888,
              "#fdca26"
             ],
             [
              1,
              "#f0f921"
             ]
            ],
            "type": "heatmap"
           }
          ],
          "histogram": [
           {
            "marker": {
             "pattern": {
              "fillmode": "overlay",
              "size": 10,
              "solidity": 0.2
             }
            },
            "type": "histogram"
           }
          ],
          "histogram2d": [
           {
            "colorbar": {
             "outlinewidth": 0,
             "ticks": ""
            },
            "colorscale": [
             [
              0,
              "#0d0887"
             ],
             [
              0.1111111111111111,
              "#46039f"
             ],
             [
              0.2222222222222222,
              "#7201a8"
             ],
             [
              0.3333333333333333,
              "#9c179e"
             ],
             [
              0.4444444444444444,
              "#bd3786"
             ],
             [
              0.5555555555555556,
              "#d8576b"
             ],
             [
              0.6666666666666666,
              "#ed7953"
             ],
             [
              0.7777777777777778,
              "#fb9f3a"
             ],
             [
              0.8888888888888888,
              "#fdca26"
             ],
             [
              1,
              "#f0f921"
             ]
            ],
            "type": "histogram2d"
           }
          ],
          "histogram2dcontour": [
           {
            "colorbar": {
             "outlinewidth": 0,
             "ticks": ""
            },
            "colorscale": [
             [
              0,
              "#0d0887"
             ],
             [
              0.1111111111111111,
              "#46039f"
             ],
             [
              0.2222222222222222,
              "#7201a8"
             ],
             [
              0.3333333333333333,
              "#9c179e"
             ],
             [
              0.4444444444444444,
              "#bd3786"
             ],
             [
              0.5555555555555556,
              "#d8576b"
             ],
             [
              0.6666666666666666,
              "#ed7953"
             ],
             [
              0.7777777777777778,
              "#fb9f3a"
             ],
             [
              0.8888888888888888,
              "#fdca26"
             ],
             [
              1,
              "#f0f921"
             ]
            ],
            "type": "histogram2dcontour"
           }
          ],
          "mesh3d": [
           {
            "colorbar": {
             "outlinewidth": 0,
             "ticks": ""
            },
            "type": "mesh3d"
           }
          ],
          "parcoords": [
           {
            "line": {
             "colorbar": {
              "outlinewidth": 0,
              "ticks": ""
             }
            },
            "type": "parcoords"
           }
          ],
          "pie": [
           {
            "automargin": true,
            "type": "pie"
           }
          ],
          "scatter": [
           {
            "fillpattern": {
             "fillmode": "overlay",
             "size": 10,
             "solidity": 0.2
            },
            "type": "scatter"
           }
          ],
          "scatter3d": [
           {
            "line": {
             "colorbar": {
              "outlinewidth": 0,
              "ticks": ""
             }
            },
            "marker": {
             "colorbar": {
              "outlinewidth": 0,
              "ticks": ""
             }
            },
            "type": "scatter3d"
           }
          ],
          "scattercarpet": [
           {
            "marker": {
             "colorbar": {
              "outlinewidth": 0,
              "ticks": ""
             }
            },
            "type": "scattercarpet"
           }
          ],
          "scattergeo": [
           {
            "marker": {
             "colorbar": {
              "outlinewidth": 0,
              "ticks": ""
             }
            },
            "type": "scattergeo"
           }
          ],
          "scattergl": [
           {
            "marker": {
             "colorbar": {
              "outlinewidth": 0,
              "ticks": ""
             }
            },
            "type": "scattergl"
           }
          ],
          "scattermap": [
           {
            "marker": {
             "colorbar": {
              "outlinewidth": 0,
              "ticks": ""
             }
            },
            "type": "scattermap"
           }
          ],
          "scattermapbox": [
           {
            "marker": {
             "colorbar": {
              "outlinewidth": 0,
              "ticks": ""
             }
            },
            "type": "scattermapbox"
           }
          ],
          "scatterpolar": [
           {
            "marker": {
             "colorbar": {
              "outlinewidth": 0,
              "ticks": ""
             }
            },
            "type": "scatterpolar"
           }
          ],
          "scatterpolargl": [
           {
            "marker": {
             "colorbar": {
              "outlinewidth": 0,
              "ticks": ""
             }
            },
            "type": "scatterpolargl"
           }
          ],
          "scatterternary": [
           {
            "marker": {
             "colorbar": {
              "outlinewidth": 0,
              "ticks": ""
             }
            },
            "type": "scatterternary"
           }
          ],
          "surface": [
           {
            "colorbar": {
             "outlinewidth": 0,
             "ticks": ""
            },
            "colorscale": [
             [
              0,
              "#0d0887"
             ],
             [
              0.1111111111111111,
              "#46039f"
             ],
             [
              0.2222222222222222,
              "#7201a8"
             ],
             [
              0.3333333333333333,
              "#9c179e"
             ],
             [
              0.4444444444444444,
              "#bd3786"
             ],
             [
              0.5555555555555556,
              "#d8576b"
             ],
             [
              0.6666666666666666,
              "#ed7953"
             ],
             [
              0.7777777777777778,
              "#fb9f3a"
             ],
             [
              0.8888888888888888,
              "#fdca26"
             ],
             [
              1,
              "#f0f921"
             ]
            ],
            "type": "surface"
           }
          ],
          "table": [
           {
            "cells": {
             "fill": {
              "color": "#EBF0F8"
             },
             "line": {
              "color": "white"
             }
            },
            "header": {
             "fill": {
              "color": "#C8D4E3"
             },
             "line": {
              "color": "white"
             }
            },
            "type": "table"
           }
          ]
         },
         "layout": {
          "annotationdefaults": {
           "arrowcolor": "#2a3f5f",
           "arrowhead": 0,
           "arrowwidth": 1
          },
          "autotypenumbers": "strict",
          "coloraxis": {
           "colorbar": {
            "outlinewidth": 0,
            "ticks": ""
           }
          },
          "colorscale": {
           "diverging": [
            [
             0,
             "#8e0152"
            ],
            [
             0.1,
             "#c51b7d"
            ],
            [
             0.2,
             "#de77ae"
            ],
            [
             0.3,
             "#f1b6da"
            ],
            [
             0.4,
             "#fde0ef"
            ],
            [
             0.5,
             "#f7f7f7"
            ],
            [
             0.6,
             "#e6f5d0"
            ],
            [
             0.7,
             "#b8e186"
            ],
            [
             0.8,
             "#7fbc41"
            ],
            [
             0.9,
             "#4d9221"
            ],
            [
             1,
             "#276419"
            ]
           ],
           "sequential": [
            [
             0,
             "#0d0887"
            ],
            [
             0.1111111111111111,
             "#46039f"
            ],
            [
             0.2222222222222222,
             "#7201a8"
            ],
            [
             0.3333333333333333,
             "#9c179e"
            ],
            [
             0.4444444444444444,
             "#bd3786"
            ],
            [
             0.5555555555555556,
             "#d8576b"
            ],
            [
             0.6666666666666666,
             "#ed7953"
            ],
            [
             0.7777777777777778,
             "#fb9f3a"
            ],
            [
             0.8888888888888888,
             "#fdca26"
            ],
            [
             1,
             "#f0f921"
            ]
           ],
           "sequentialminus": [
            [
             0,
             "#0d0887"
            ],
            [
             0.1111111111111111,
             "#46039f"
            ],
            [
             0.2222222222222222,
             "#7201a8"
            ],
            [
             0.3333333333333333,
             "#9c179e"
            ],
            [
             0.4444444444444444,
             "#bd3786"
            ],
            [
             0.5555555555555556,
             "#d8576b"
            ],
            [
             0.6666666666666666,
             "#ed7953"
            ],
            [
             0.7777777777777778,
             "#fb9f3a"
            ],
            [
             0.8888888888888888,
             "#fdca26"
            ],
            [
             1,
             "#f0f921"
            ]
           ]
          },
          "colorway": [
           "#636efa",
           "#EF553B",
           "#00cc96",
           "#ab63fa",
           "#FFA15A",
           "#19d3f3",
           "#FF6692",
           "#B6E880",
           "#FF97FF",
           "#FECB52"
          ],
          "font": {
           "color": "#2a3f5f"
          },
          "geo": {
           "bgcolor": "white",
           "lakecolor": "white",
           "landcolor": "#E5ECF6",
           "showlakes": true,
           "showland": true,
           "subunitcolor": "white"
          },
          "hoverlabel": {
           "align": "left"
          },
          "hovermode": "closest",
          "mapbox": {
           "style": "light"
          },
          "paper_bgcolor": "white",
          "plot_bgcolor": "#E5ECF6",
          "polar": {
           "angularaxis": {
            "gridcolor": "white",
            "linecolor": "white",
            "ticks": ""
           },
           "bgcolor": "#E5ECF6",
           "radialaxis": {
            "gridcolor": "white",
            "linecolor": "white",
            "ticks": ""
           }
          },
          "scene": {
           "xaxis": {
            "backgroundcolor": "#E5ECF6",
            "gridcolor": "white",
            "gridwidth": 2,
            "linecolor": "white",
            "showbackground": true,
            "ticks": "",
            "zerolinecolor": "white"
           },
           "yaxis": {
            "backgroundcolor": "#E5ECF6",
            "gridcolor": "white",
            "gridwidth": 2,
            "linecolor": "white",
            "showbackground": true,
            "ticks": "",
            "zerolinecolor": "white"
           },
           "zaxis": {
            "backgroundcolor": "#E5ECF6",
            "gridcolor": "white",
            "gridwidth": 2,
            "linecolor": "white",
            "showbackground": true,
            "ticks": "",
            "zerolinecolor": "white"
           }
          },
          "shapedefaults": {
           "line": {
            "color": "#2a3f5f"
           }
          },
          "ternary": {
           "aaxis": {
            "gridcolor": "white",
            "linecolor": "white",
            "ticks": ""
           },
           "baxis": {
            "gridcolor": "white",
            "linecolor": "white",
            "ticks": ""
           },
           "bgcolor": "#E5ECF6",
           "caxis": {
            "gridcolor": "white",
            "linecolor": "white",
            "ticks": ""
           }
          },
          "title": {
           "x": 0.05
          },
          "xaxis": {
           "automargin": true,
           "gridcolor": "white",
           "linecolor": "white",
           "ticks": "",
           "title": {
            "standoff": 15
           },
           "zerolinecolor": "white",
           "zerolinewidth": 2
          },
          "yaxis": {
           "automargin": true,
           "gridcolor": "white",
           "linecolor": "white",
           "ticks": "",
           "title": {
            "standoff": 15
           },
           "zerolinecolor": "white",
           "zerolinewidth": 2
          }
         }
        },
        "title": {
         "text": "Hierarchical View of Assignees 🌳"
        }
       }
      }
     },
     "metadata": {},
     "output_type": "display_data"
    }
   ],
   "source": [
    "analyze_assignee(\"../datasets/gcc_data.csv\")"
   ]
  }
 ],
 "metadata": {
  "kernelspec": {
   "display_name": "bac-yXAG28nu-py3.11",
   "language": "python",
   "name": "python3"
  },
  "language_info": {
   "codemirror_mode": {
    "name": "ipython",
    "version": 3
   },
   "file_extension": ".py",
   "mimetype": "text/x-python",
   "name": "python",
   "nbconvert_exporter": "python",
   "pygments_lexer": "ipython3",
   "version": "3.11.13"
  }
 },
 "nbformat": 4,
 "nbformat_minor": 5
}
